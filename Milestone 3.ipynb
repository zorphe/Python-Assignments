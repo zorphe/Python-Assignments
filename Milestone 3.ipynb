{
 "cells": [
  {
   "cell_type": "code",
   "execution_count": null,
   "metadata": {},
   "outputs": [],
   "source": [
    "#############\n",
    "# Project 3\n",
    "# Mortgage Calculator - \n",
    "# Calculate the monthly payments of a fixed term mortgage over given Nth terms at a given interest rate. \n",
    "# Also figure out how long it will take the user to pay back the loan. \n",
    "\n",
    "# For added complexity, add an option for users to select the compounding interval \n",
    "# (Monthly, Weekly, Daily, Continually).\n",
    "\n",
    "# Also, consider use of widgets.\n",
    "\n",
    "# references:\n",
    "# https://en.wikipedia.org/wiki/Mortgage_calculator\n",
    "\n",
    "def calculate_mortgage(principal = 200000, interestRate = .05, nMonths = 180):\n",
    "    '''\n",
    "    INPUT: principal (amount borrowed), interestRate (pref. in decimal), number of months\n",
    "    Defaults: \n",
    "        $200000\n",
    "        .05 (or 5%)\n",
    "        180 months (15 years)\n",
    "    \n",
    "    OUPUT: number of monthly payments\n",
    "    '''\n",
    "    \n",
    "    # confirm that interestRate is decimal ( check for % )\n",
    "    # else convert.\n",
    "    \n",
    "    # negative rate --> return early.\n",
    "    \n",
    "    # 0 interest rate ==> simple formula\n",
    "    \n",
    "    # non-zero rate: \n",
    "    \n",
    "    pass"
   ]
  }
 ],
 "metadata": {
  "kernelspec": {
   "display_name": "Python 3",
   "language": "python",
   "name": "python3"
  },
  "language_info": {
   "codemirror_mode": {
    "name": "ipython",
    "version": 3
   },
   "file_extension": ".py",
   "mimetype": "text/x-python",
   "name": "python",
   "nbconvert_exporter": "python",
   "pygments_lexer": "ipython3",
   "version": "3.7.3"
  }
 },
 "nbformat": 4,
 "nbformat_minor": 2
}
