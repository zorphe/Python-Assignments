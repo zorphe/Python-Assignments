{
 "cells": [
  {
   "cell_type": "code",
   "execution_count": null,
   "metadata": {},
   "outputs": [],
   "source": [
    "#############\n",
    "# Project 3\n",
    "# Mortgage Calculator - \n",
    "# Calculate the monthly payments of a fixed term mortgage over given Nth terms at a given interest rate. \n",
    "# Also figure out how long it will take the user to pay back the loan. \n",
    "\n",
    "# For added complexity, add an option for users to select the compounding interval \n",
    "# (Monthly, Weekly, Daily, Continually).\n",
    "\n",
    "# Also, consider use of widgets.\n",
    "\n",
    "# references:\n",
    "# https://en.wikipedia.org/wiki/Mortgage_calculator\n",
    "\n",
    "def calculate_mortgage(principal = 200000, interestRate = .05, months = 180):\n",
    "    '''\n",
    "    INPUT: principal (amount borrowed), interestRate (pref. in decimal), number of months\n",
    "    Defaults: \n",
    "        $200000\n",
    "        .05 (or 5%)\n",
    "        180 months (15 years)\n",
    "    \n",
    "    OUPUT: number of monthly payments\n",
    "    '''\n",
    "    \n",
    "    # check for bad input\n",
    "    # % interestRates for instance.\n",
    "    if (type(interestRate) == str):\n",
    "        if interestRate.find('%'):\n",
    "            interestRate = float(interestRate.strip('%')) * .01\n",
    "    \n",
    "    if type(principal) != float and type(principal) != int:\n",
    "        return 'Error - Bad input provided: Principal.'\n",
    "    \n",
    "    # may be temporary check, with the upcoming compounding option.\n",
    "    if type(months) != float and type(months) != int:\n",
    "        return 'Error - Bad input provided: number of months.'\n",
    "    \n",
    "    # negative rate?\n",
    "    if interestRate < 0:\n",
    "        return 'Error: Negative interest rate provided.'\n",
    "    \n",
    "    # 0 interest rate ==> simple formula\n",
    "    if interestRate == 0:\n",
    "        return principal / months\n",
    "    \n",
    "    # convert to monthly interest rate:\n",
    "    interestRate /= 12\n",
    "    \n",
    "    # non-zero rate: \n",
    "    numerator = interestRate * principal * (1 + interestRate) ** months\n",
    "    denominator = (1 + interestRate) ** months - 1\n",
    "    \n",
    "    return numerator / denominator"
   ]
  },
  {
   "cell_type": "code",
   "execution_count": null,
   "metadata": {},
   "outputs": [],
   "source": [
    "# sample example\n",
    "round(calculate_mortgage(principal=200_000,interestRate=0.065, months=360)) == 1264"
   ]
  },
  {
   "cell_type": "code",
   "execution_count": null,
   "metadata": {},
   "outputs": [],
   "source": [
    "calculate_mortgage(principal=200_000,interestRate=0.065, months=360)"
   ]
  },
  {
   "cell_type": "code",
   "execution_count": null,
   "metadata": {},
   "outputs": [],
   "source": []
  }
 ],
 "metadata": {
  "kernelspec": {
   "display_name": "Python 3",
   "language": "python",
   "name": "python3"
  },
  "language_info": {
   "codemirror_mode": {
    "name": "ipython",
    "version": 3
   },
   "file_extension": ".py",
   "mimetype": "text/x-python",
   "name": "python",
   "nbconvert_exporter": "python",
   "pygments_lexer": "ipython3",
   "version": "3.7.3"
  }
 },
 "nbformat": 4,
 "nbformat_minor": 2
}
