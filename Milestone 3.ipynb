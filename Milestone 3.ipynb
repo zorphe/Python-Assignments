{
 "cells": [
  {
   "cell_type": "code",
   "execution_count": null,
   "metadata": {},
   "outputs": [],
   "source": [
    "#############\n",
    "# Project 3\n",
    "# Mortgage Calculator - \n",
    "# Calculate the monthly payments of a fixed term mortgage over given Nth terms at a given interest rate. \n",
    "# Also figure out how long it will take the user to pay back the loan. \n",
    "\n",
    "# For added complexity, add an option for users to select the compounding interval \n",
    "# (Monthly, Weekly, Daily, Continually).\n",
    "\n",
    "# Also, consider use of widgets.\n",
    "\n",
    "# references:\n",
    "# https://en.wikipedia.org/wiki/Mortgage_calculator\n",
    "\n",
    "def calculate_mortgage(principal = 200000, interest_rate = .05, months = 360):\n",
    "    '''\n",
    "    INPUT: principal (amount borrowed), interest_rate (pref. in decimal), number of months\n",
    "    Defaults: \n",
    "        $200000\n",
    "        .05 (or 5%)\n",
    "        180 months (15 years)\n",
    "    \n",
    "    OUPUT: number of monthly payments\n",
    "    '''\n",
    "    \n",
    "    # check for bad input\n",
    "    # % interestRates for instance.\n",
    "    if (type(interest_rate) == str):\n",
    "        if interest_rate.find('%'):\n",
    "            interest_rate = float(interest_rate.strip('%')) * .01\n",
    "    \n",
    "    if type(principal) != float and type(principal) != int:\n",
    "        return 'Error - Bad input provided: Principal.'\n",
    "    \n",
    "    # may be temporary check, with the upcoming compounding option.\n",
    "    if type(months) != float and type(months) != int:\n",
    "        return 'Error - Bad input provided: number of months.'\n",
    "    \n",
    "    # negative rate?\n",
    "    if interest_rate < 0:\n",
    "        return 'Error: Negative interest rate provided.'\n",
    "    \n",
    "    # 0 interest rate ==> simple formula\n",
    "    if interest_rate == 0:\n",
    "        return principal / months\n",
    "    \n",
    "    # convert to monthly interest rate:\n",
    "    interest_rate /= 12\n",
    "    \n",
    "    # non-zero rate: \n",
    "    numerator = interest_rate * principal * (1 + interest_rate) ** months\n",
    "    denominator = (1 + interest_rate) ** months - 1\n",
    "    \n",
    "    display(numerator / denominator)\n",
    "    return (numerator / denominator)"
   ]
  },
  {
   "cell_type": "code",
   "execution_count": null,
   "metadata": {},
   "outputs": [],
   "source": [
    "from ipywidgets import interact, interactive, fixed\n",
    "from IPython.display import display\n",
    "import ipywidgets as widgets\n",
    "\n",
    "mortgageUI = interactive(\n",
    "    calculate_mortgage,\n",
    "    principal=widgets.BoundedIntText(min=0, max=500_000, step=1_000, value=200_000, description='Principal:'),\n",
    "    interest_rate=widgets.BoundedFloatText(min=0, max=10, step=0.005, value=.065, readout_format='.2%', description='Interest Rate:'),\n",
    "    months=widgets.IntSlider(min=1, max= 1000, step=1, value=360)\n",
    ")"
   ]
  },
  {
   "cell_type": "code",
   "execution_count": null,
   "metadata": {},
   "outputs": [],
   "source": [
    "# sample example\n",
    "round(calculate_mortgage(principal=200_000,interest_rate=0.065, months=360)) == 1264"
   ]
  },
  {
   "cell_type": "code",
   "execution_count": null,
   "metadata": {
    "scrolled": true
   },
   "outputs": [],
   "source": [
    "calculate_mortgage(principal=200_000,interest_rate=0.065, months=360)"
   ]
  },
  {
   "cell_type": "code",
   "execution_count": null,
   "metadata": {
    "scrolled": true
   },
   "outputs": [],
   "source": [
    "display(mortgageUI)"
   ]
  }
 ],
 "metadata": {
  "kernelspec": {
   "display_name": "Python 3",
   "language": "python",
   "name": "python3"
  },
  "language_info": {
   "codemirror_mode": {
    "name": "ipython",
    "version": 3
   },
   "file_extension": ".py",
   "mimetype": "text/x-python",
   "name": "python",
   "nbconvert_exporter": "python",
   "pygments_lexer": "ipython3",
   "version": "3.7.3"
  }
 },
 "nbformat": 4,
 "nbformat_minor": 2
}
